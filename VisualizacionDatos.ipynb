{
 "cells": [
  {
   "cell_type": "code",
   "execution_count": 1,
   "metadata": {},
   "outputs": [],
   "source": [
    "import pandas as pd\n",
    "df = pd.read_csv('IMF_M5_Mystery_Shopping.csv', sep=';', encoding='latin-1')"
   ]
  },
  {
   "cell_type": "code",
   "execution_count": 2,
   "metadata": {},
   "outputs": [
    {
     "data": {
      "text/html": [
       "<div>\n",
       "<style scoped>\n",
       "    .dataframe tbody tr th:only-of-type {\n",
       "        vertical-align: middle;\n",
       "    }\n",
       "\n",
       "    .dataframe tbody tr th {\n",
       "        vertical-align: top;\n",
       "    }\n",
       "\n",
       "    .dataframe thead th {\n",
       "        text-align: right;\n",
       "    }\n",
       "</style>\n",
       "<table border=\"1\" class=\"dataframe\">\n",
       "  <thead>\n",
       "    <tr style=\"text-align: right;\">\n",
       "      <th></th>\n",
       "      <th>COD_LOC</th>\n",
       "      <th>NOMBRE_LOC</th>\n",
       "      <th>CP</th>\n",
       "      <th>POBLACION</th>\n",
       "      <th>OFICINA</th>\n",
       "      <th>PROVINCIA</th>\n",
       "      <th>COD_PROY</th>\n",
       "      <th>ID_EVALUACION</th>\n",
       "      <th>Fecha de ejecucion</th>\n",
       "      <th>COD_AUDITOR</th>\n",
       "      <th>RESULTADO</th>\n",
       "      <th>TITULO_CUESTIONARIO</th>\n",
       "    </tr>\n",
       "  </thead>\n",
       "  <tbody>\n",
       "    <tr>\n",
       "      <th>0</th>\n",
       "      <td>12</td>\n",
       "      <td>MUCHAS BOIRO</td>\n",
       "      <td>15930</td>\n",
       "      <td>Boiro</td>\n",
       "      <td>910</td>\n",
       "      <td>A CORUÑA</td>\n",
       "      <td>0267_001</td>\n",
       "      <td>1938117</td>\n",
       "      <td>16/01/2014</td>\n",
       "      <td>R29407</td>\n",
       "      <td>0,9513</td>\n",
       "      <td>Nuevo cuestionario Mucha's</td>\n",
       "    </tr>\n",
       "    <tr>\n",
       "      <th>1</th>\n",
       "      <td>17</td>\n",
       "      <td>MUCHAS CARBALLIÑO</td>\n",
       "      <td>32500</td>\n",
       "      <td>Carballiño</td>\n",
       "      <td>910</td>\n",
       "      <td>ORENSE</td>\n",
       "      <td>0267_001</td>\n",
       "      <td>1938118</td>\n",
       "      <td>10/01/2014</td>\n",
       "      <td>33466</td>\n",
       "      <td>0,8351</td>\n",
       "      <td>Nuevo cuestionario Mucha's</td>\n",
       "    </tr>\n",
       "    <tr>\n",
       "      <th>2</th>\n",
       "      <td>21</td>\n",
       "      <td>MUCHAS BUEU</td>\n",
       "      <td>36930</td>\n",
       "      <td>Bueu</td>\n",
       "      <td>910</td>\n",
       "      <td>PONTEVEDRA</td>\n",
       "      <td>0267_001</td>\n",
       "      <td>1938119</td>\n",
       "      <td>10/01/2014</td>\n",
       "      <td>29100</td>\n",
       "      <td>0,8958</td>\n",
       "      <td>Nuevo cuestionario Mucha's</td>\n",
       "    </tr>\n",
       "    <tr>\n",
       "      <th>3</th>\n",
       "      <td>31</td>\n",
       "      <td>MUCHAS VIGO I</td>\n",
       "      <td>36202</td>\n",
       "      <td>Vigo</td>\n",
       "      <td>910</td>\n",
       "      <td>PONTEVEDRA</td>\n",
       "      <td>0267_001</td>\n",
       "      <td>1938120</td>\n",
       "      <td>21/01/2014</td>\n",
       "      <td>34161</td>\n",
       "      <td>0,7625</td>\n",
       "      <td>Nuevo cuestionario Mucha's</td>\n",
       "    </tr>\n",
       "    <tr>\n",
       "      <th>4</th>\n",
       "      <td>34</td>\n",
       "      <td>MUCHAS REDONDELA</td>\n",
       "      <td>36800</td>\n",
       "      <td>Redondela</td>\n",
       "      <td>910</td>\n",
       "      <td>PONTEVEDRA</td>\n",
       "      <td>0267_001</td>\n",
       "      <td>1938121</td>\n",
       "      <td>23/01/2014</td>\n",
       "      <td>34161</td>\n",
       "      <td>0,6069</td>\n",
       "      <td>Nuevo cuestionario Mucha's</td>\n",
       "    </tr>\n",
       "    <tr>\n",
       "      <th>...</th>\n",
       "      <td>...</td>\n",
       "      <td>...</td>\n",
       "      <td>...</td>\n",
       "      <td>...</td>\n",
       "      <td>...</td>\n",
       "      <td>...</td>\n",
       "      <td>...</td>\n",
       "      <td>...</td>\n",
       "      <td>...</td>\n",
       "      <td>...</td>\n",
       "      <td>...</td>\n",
       "      <td>...</td>\n",
       "    </tr>\n",
       "    <tr>\n",
       "      <th>32792</th>\n",
       "      <td>266</td>\n",
       "      <td>STAND -  MEDIA MARKT BARAKALDO</td>\n",
       "      <td>48000</td>\n",
       "      <td>BARACALDO</td>\n",
       "      <td>905</td>\n",
       "      <td>VIZCAYA</td>\n",
       "      <td>0457_004</td>\n",
       "      <td>2016569</td>\n",
       "      <td>16/06/2014</td>\n",
       "      <td>A32801</td>\n",
       "      <td>1</td>\n",
       "      <td>CONSUMO IMAGEN GRANDES SUPERFICIES - P2 (14.15)</td>\n",
       "    </tr>\n",
       "    <tr>\n",
       "      <th>32793</th>\n",
       "      <td>266</td>\n",
       "      <td>STAND -  MEDIA MARKT BARAKALDO</td>\n",
       "      <td>48000</td>\n",
       "      <td>BARACALDO</td>\n",
       "      <td>905</td>\n",
       "      <td>VIZCAYA</td>\n",
       "      <td>0457_004</td>\n",
       "      <td>2016570</td>\n",
       "      <td>16/06/2014</td>\n",
       "      <td>A32801</td>\n",
       "      <td>1</td>\n",
       "      <td>CONSUMO PROCESOS - P2 (14.15)</td>\n",
       "    </tr>\n",
       "    <tr>\n",
       "      <th>32794</th>\n",
       "      <td>324</td>\n",
       "      <td>GRUPO BONATEL, S.L.U.</td>\n",
       "      <td>12540</td>\n",
       "      <td>VILLAREAL</td>\n",
       "      <td>917</td>\n",
       "      <td>CASTELLON</td>\n",
       "      <td>0457_002</td>\n",
       "      <td>2016576</td>\n",
       "      <td>17/04/2014</td>\n",
       "      <td>31433</td>\n",
       "      <td>0,95</td>\n",
       "      <td>MYSTERY SHOPPER FFQQ P1 (ABR_14)</td>\n",
       "    </tr>\n",
       "    <tr>\n",
       "      <th>32795</th>\n",
       "      <td>161</td>\n",
       "      <td>AVEIRO</td>\n",
       "      <td>8000</td>\n",
       "      <td>AVEIRO</td>\n",
       "      <td>901</td>\n",
       "      <td>EXTRANJERO</td>\n",
       "      <td>0569_001</td>\n",
       "      <td>2016755</td>\n",
       "      <td>15/05/2014</td>\n",
       "      <td>33592</td>\n",
       "      <td>0,873</td>\n",
       "      <td>Prenatal Mystery Shopping</td>\n",
       "    </tr>\n",
       "    <tr>\n",
       "      <th>32796</th>\n",
       "      <td>161</td>\n",
       "      <td>AVEIRO</td>\n",
       "      <td>8000</td>\n",
       "      <td>AVEIRO</td>\n",
       "      <td>901</td>\n",
       "      <td>EXTRANJERO</td>\n",
       "      <td>0569_001</td>\n",
       "      <td>2016756</td>\n",
       "      <td>15/05/2014</td>\n",
       "      <td>33592</td>\n",
       "      <td>0,975</td>\n",
       "      <td>Prenatal Visual tienda</td>\n",
       "    </tr>\n",
       "  </tbody>\n",
       "</table>\n",
       "<p>32797 rows × 12 columns</p>\n",
       "</div>"
      ],
      "text/plain": [
       "      COD_LOC                      NOMBRE_LOC     CP   POBLACION OFICINA  \\\n",
       "0          12                    MUCHAS BOIRO  15930       Boiro     910   \n",
       "1          17               MUCHAS CARBALLIÑO  32500  Carballiño     910   \n",
       "2          21                     MUCHAS BUEU  36930        Bueu     910   \n",
       "3          31                   MUCHAS VIGO I  36202        Vigo     910   \n",
       "4          34                MUCHAS REDONDELA  36800   Redondela     910   \n",
       "...       ...                             ...    ...         ...     ...   \n",
       "32792     266  STAND -  MEDIA MARKT BARAKALDO  48000   BARACALDO     905   \n",
       "32793     266  STAND -  MEDIA MARKT BARAKALDO  48000   BARACALDO     905   \n",
       "32794     324           GRUPO BONATEL, S.L.U.  12540   VILLAREAL     917   \n",
       "32795     161                          AVEIRO   8000      AVEIRO     901   \n",
       "32796     161                          AVEIRO   8000      AVEIRO     901   \n",
       "\n",
       "        PROVINCIA  COD_PROY  ID_EVALUACION Fecha de ejecucion COD_AUDITOR  \\\n",
       "0        A CORUÑA  0267_001        1938117         16/01/2014      R29407   \n",
       "1          ORENSE  0267_001        1938118         10/01/2014       33466   \n",
       "2      PONTEVEDRA  0267_001        1938119         10/01/2014       29100   \n",
       "3      PONTEVEDRA  0267_001        1938120         21/01/2014       34161   \n",
       "4      PONTEVEDRA  0267_001        1938121         23/01/2014       34161   \n",
       "...           ...       ...            ...                ...         ...   \n",
       "32792     VIZCAYA  0457_004        2016569         16/06/2014      A32801   \n",
       "32793     VIZCAYA  0457_004        2016570         16/06/2014      A32801   \n",
       "32794   CASTELLON  0457_002        2016576         17/04/2014       31433   \n",
       "32795  EXTRANJERO  0569_001        2016755         15/05/2014       33592   \n",
       "32796  EXTRANJERO  0569_001        2016756         15/05/2014       33592   \n",
       "\n",
       "      RESULTADO                              TITULO_CUESTIONARIO  \n",
       "0        0,9513                       Nuevo cuestionario Mucha's  \n",
       "1        0,8351                       Nuevo cuestionario Mucha's  \n",
       "2        0,8958                       Nuevo cuestionario Mucha's  \n",
       "3        0,7625                       Nuevo cuestionario Mucha's  \n",
       "4        0,6069                       Nuevo cuestionario Mucha's  \n",
       "...         ...                                              ...  \n",
       "32792         1  CONSUMO IMAGEN GRANDES SUPERFICIES - P2 (14.15)  \n",
       "32793         1                    CONSUMO PROCESOS - P2 (14.15)  \n",
       "32794      0,95                 MYSTERY SHOPPER FFQQ P1 (ABR_14)  \n",
       "32795     0,873                        Prenatal Mystery Shopping  \n",
       "32796     0,975                           Prenatal Visual tienda  \n",
       "\n",
       "[32797 rows x 12 columns]"
      ]
     },
     "execution_count": 2,
     "metadata": {},
     "output_type": "execute_result"
    }
   ],
   "source": [
    "a = pd.DataFrame(df)\n",
    "a"
   ]
  },
  {
   "cell_type": "code",
   "execution_count": 3,
   "metadata": {},
   "outputs": [
    {
     "data": {
      "text/plain": [
       "Index(['COD_LOC', 'NOMBRE_LOC', 'CP', 'POBLACION', 'OFICINA', 'PROVINCIA',\n",
       "       'COD_PROY', 'ID_EVALUACION', 'Fecha de ejecucion', 'COD_AUDITOR',\n",
       "       'RESULTADO', 'TITULO_CUESTIONARIO'],\n",
       "      dtype='object')"
      ]
     },
     "execution_count": 3,
     "metadata": {},
     "output_type": "execute_result"
    }
   ],
   "source": [
    "a.columns"
   ]
  },
  {
   "cell_type": "code",
   "execution_count": 4,
   "metadata": {},
   "outputs": [
    {
     "data": {
      "text/plain": [
       "COD_LOC                object\n",
       "NOMBRE_LOC             object\n",
       "CP                      int64\n",
       "POBLACION              object\n",
       "OFICINA                object\n",
       "PROVINCIA              object\n",
       "COD_PROY               object\n",
       "ID_EVALUACION           int64\n",
       "Fecha de ejecucion     object\n",
       "COD_AUDITOR            object\n",
       "RESULTADO              object\n",
       "TITULO_CUESTIONARIO    object\n",
       "dtype: object"
      ]
     },
     "execution_count": 4,
     "metadata": {},
     "output_type": "execute_result"
    }
   ],
   "source": [
    "a.dtypes"
   ]
  },
  {
   "cell_type": "code",
   "execution_count": 5,
   "metadata": {},
   "outputs": [
    {
     "data": {
      "text/plain": [
       "(32797, 12)"
      ]
     },
     "execution_count": 5,
     "metadata": {},
     "output_type": "execute_result"
    }
   ],
   "source": [
    "a.shape"
   ]
  },
  {
   "cell_type": "code",
   "execution_count": 6,
   "metadata": {},
   "outputs": [
    {
     "data": {
      "text/plain": [
       "1       269\n",
       "2       197\n",
       "15      182\n",
       "12      178\n",
       "5       177\n",
       "       ... \n",
       "6185      1\n",
       "C881      1\n",
       "P8        1\n",
       "2362      1\n",
       "1770      1\n",
       "Name: COD_LOC, Length: 5646, dtype: int64"
      ]
     },
     "execution_count": 6,
     "metadata": {},
     "output_type": "execute_result"
    }
   ],
   "source": [
    "a['COD_LOC'].value_counts()"
   ]
  },
  {
   "cell_type": "code",
   "execution_count": 7,
   "metadata": {},
   "outputs": [
    {
     "data": {
      "text/plain": [
       "count     32797\n",
       "unique     5646\n",
       "top           1\n",
       "freq        269\n",
       "Name: COD_LOC, dtype: object"
      ]
     },
     "execution_count": 7,
     "metadata": {},
     "output_type": "execute_result"
    }
   ],
   "source": [
    "a['COD_LOC'].describe()"
   ]
  },
  {
   "cell_type": "code",
   "execution_count": 8,
   "metadata": {},
   "outputs": [
    {
     "data": {
      "text/plain": [
       "LUALBO, S.L                             872\n",
       "Salesland                               690\n",
       "Aventel                                 519\n",
       "GRUPCOM RETAIL,  S.L.                   417\n",
       "INTERNITY (AVENIR TELECOM S.A.)         346\n",
       "                                       ... \n",
       "Tienda PHONE HOUSE Real 119 (Ferrol)      1\n",
       "AUTOS AL-MAZARRON, S.L.                   1\n",
       "GAFAS COMPLETAS MERCABARNA                1\n",
       "holaMOBI Badajoz R. Carapeto              1\n",
       "GA.MUROS                                  1\n",
       "Name: NOMBRE_LOC, Length: 6702, dtype: int64"
      ]
     },
     "execution_count": 8,
     "metadata": {},
     "output_type": "execute_result"
    }
   ],
   "source": [
    "a['NOMBRE_LOC'].value_counts()"
   ]
  },
  {
   "cell_type": "code",
   "execution_count": 9,
   "metadata": {},
   "outputs": [
    {
     "data": {
      "text/plain": [
       "count           32797\n",
       "unique           6702\n",
       "top       LUALBO, S.L\n",
       "freq              872\n",
       "Name: NOMBRE_LOC, dtype: object"
      ]
     },
     "execution_count": 9,
     "metadata": {},
     "output_type": "execute_result"
    }
   ],
   "source": [
    "a['NOMBRE_LOC'].describe()"
   ]
  },
  {
   "cell_type": "code",
   "execution_count": 5,
   "metadata": {},
   "outputs": [],
   "source": [
    "a['CP'] = a['CP'].astype('object')"
   ]
  },
  {
   "cell_type": "code",
   "execution_count": 6,
   "metadata": {},
   "outputs": [
    {
     "data": {
      "text/plain": [
       "28000    2321\n",
       "8000      908\n",
       "43840     233\n",
       "8820      184\n",
       "8028      153\n",
       "         ... \n",
       "17834       1\n",
       "33947       1\n",
       "12350       1\n",
       "24411       1\n",
       "29560       1\n",
       "Name: CP, Length: 1797, dtype: int64"
      ]
     },
     "execution_count": 6,
     "metadata": {},
     "output_type": "execute_result"
    }
   ],
   "source": [
    "a['CP'].value_counts()"
   ]
  },
  {
   "cell_type": "code",
   "execution_count": 7,
   "metadata": {},
   "outputs": [
    {
     "data": {
      "text/plain": [
       "count     32797\n",
       "unique     1797\n",
       "top       28000\n",
       "freq       2321\n",
       "Name: CP, dtype: int64"
      ]
     },
     "execution_count": 7,
     "metadata": {},
     "output_type": "execute_result"
    }
   ],
   "source": [
    "a['CP'].describe()"
   ]
  },
  {
   "cell_type": "code",
   "execution_count": 10,
   "metadata": {},
   "outputs": [
    {
     "data": {
      "text/plain": [
       "MADRID                      1725\n",
       "BARCELONA                   1288\n",
       "Madrid                      1013\n",
       "TE SIN FEE                   782\n",
       "Barcelona                    745\n",
       "                            ... \n",
       "SANT ANTONI DE VILAMAJOR       1\n",
       "Felanitx                       1\n",
       "EJIDO (EL)                     1\n",
       "CASTAÑEDA                      1\n",
       "OROTAVA, LA                    1\n",
       "Name: POBLACION, Length: 2045, dtype: int64"
      ]
     },
     "execution_count": 10,
     "metadata": {},
     "output_type": "execute_result"
    }
   ],
   "source": [
    "a['POBLACION'].value_counts()"
   ]
  },
  {
   "cell_type": "code",
   "execution_count": 11,
   "metadata": {},
   "outputs": [
    {
     "data": {
      "text/plain": [
       "count      32716\n",
       "unique      2045\n",
       "top       MADRID\n",
       "freq        1725\n",
       "Name: POBLACION, dtype: object"
      ]
     },
     "execution_count": 11,
     "metadata": {},
     "output_type": "execute_result"
    }
   ],
   "source": [
    "a['POBLACION'].describe()"
   ]
  },
  {
   "cell_type": "code",
   "execution_count": 12,
   "metadata": {},
   "outputs": [
    {
     "data": {
      "text/plain": [
       "911    9221\n",
       "901    7915\n",
       "915    4469\n",
       "917    2392\n",
       "922    2171\n",
       "910    1970\n",
       "905    1554\n",
       "908    1314\n",
       "919     710\n",
       "921     640\n",
       "SGS     297\n",
       "999      91\n",
       "959      53\n",
       "Name: OFICINA, dtype: int64"
      ]
     },
     "execution_count": 12,
     "metadata": {},
     "output_type": "execute_result"
    }
   ],
   "source": [
    "a['OFICINA'].value_counts()"
   ]
  },
  {
   "cell_type": "code",
   "execution_count": 13,
   "metadata": {},
   "outputs": [
    {
     "data": {
      "text/plain": [
       "count     32797\n",
       "unique       13\n",
       "top         911\n",
       "freq       9221\n",
       "Name: OFICINA, dtype: object"
      ]
     },
     "execution_count": 13,
     "metadata": {},
     "output_type": "execute_result"
    }
   ],
   "source": [
    "a['OFICINA'].describe()"
   ]
  },
  {
   "cell_type": "code",
   "execution_count": 14,
   "metadata": {},
   "outputs": [
    {
     "data": {
      "text/plain": [
       "MADRID                    6663\n",
       "BARCELONA                 5438\n",
       "VALENCIA                  1879\n",
       "ALICANTE                  1319\n",
       "SEVILLA                    988\n",
       "ASTURIAS                   941\n",
       "A CORUÑA                   928\n",
       "TARRAGONA                  874\n",
       "MALAGA                     859\n",
       "MURCIA                     793\n",
       "PALMAS, LAS                716\n",
       "SANTA CRUZ DE TENERIFE     648\n",
       "CADIZ                      624\n",
       "PONTEVEDRA                 607\n",
       "VIZCAYA                    603\n",
       "GIRONA                     596\n",
       "BALEARES                   550\n",
       "LLEIDA                     487\n",
       "ZARAGOZA                   467\n",
       "CORDOBA                    431\n",
       "GRANADA                    397\n",
       "CASTELLON                  362\n",
       "EXTRANJERO                 358\n",
       "GUIPUZCOA                  353\n",
       "ALMERIA                    317\n",
       "BADAJOZ                    311\n",
       "NAVARRA                    309\n",
       "VALLADOLID                 308\n",
       "JAEN                       298\n",
       "LEON                       280\n",
       "CANTABRIA                  270\n",
       "CIUDAD REAL                251\n",
       "HUELVA                     238\n",
       "ALBACETE                   233\n",
       "TOLEDO                     230\n",
       "ORENSE                     221\n",
       "LUGO                       211\n",
       "SALAMANCA                  171\n",
       "ALAVA                      162\n",
       "CACERES                    140\n",
       "RIOJA, LA                  128\n",
       "BURGOS                     128\n",
       "HUESCA                     101\n",
       "SEGOVIA                     92\n",
       "AVILA                       85\n",
       "CUENCA                      80\n",
       "PALENCIA                    77\n",
       "ZAMORA                      70\n",
       "GUADALAJARA                 70\n",
       "TERUEL                      46\n",
       "SORIA                       33\n",
       "MELILLA                     31\n",
       "CEUTA                       25\n",
       "Name: PROVINCIA, dtype: int64"
      ]
     },
     "execution_count": 14,
     "metadata": {},
     "output_type": "execute_result"
    }
   ],
   "source": [
    "a['PROVINCIA'].value_counts()"
   ]
  },
  {
   "cell_type": "code",
   "execution_count": 15,
   "metadata": {},
   "outputs": [
    {
     "data": {
      "text/plain": [
       "count      32797\n",
       "unique        53\n",
       "top       MADRID\n",
       "freq        6663\n",
       "Name: PROVINCIA, dtype: object"
      ]
     },
     "execution_count": 15,
     "metadata": {},
     "output_type": "execute_result"
    }
   ],
   "source": [
    "a['PROVINCIA'].describe()"
   ]
  },
  {
   "cell_type": "code",
   "execution_count": 16,
   "metadata": {},
   "outputs": [
    {
     "data": {
      "text/plain": [
       "0457_003    9633\n",
       "0457_002    2158\n",
       "0457_004    1414\n",
       "0010_001    1269\n",
       "0111_001     911\n",
       "            ... \n",
       "FLL_1          1\n",
       "AX             1\n",
       "ZENIT          1\n",
       "LOLO           1\n",
       "CIR            1\n",
       "Name: COD_PROY, Length: 223, dtype: int64"
      ]
     },
     "execution_count": 16,
     "metadata": {},
     "output_type": "execute_result"
    }
   ],
   "source": [
    "a['COD_PROY'].value_counts()"
   ]
  },
  {
   "cell_type": "code",
   "execution_count": 17,
   "metadata": {
    "scrolled": true
   },
   "outputs": [
    {
     "data": {
      "text/plain": [
       "count        32797\n",
       "unique         223\n",
       "top       0457_003\n",
       "freq          9633\n",
       "Name: COD_PROY, dtype: object"
      ]
     },
     "execution_count": 17,
     "metadata": {},
     "output_type": "execute_result"
    }
   ],
   "source": [
    "a['COD_PROY'].describe()"
   ]
  },
  {
   "cell_type": "code",
   "execution_count": 18,
   "metadata": {},
   "outputs": [],
   "source": [
    "a['ID_EVALUACION'] = a['ID_EVALUACION'].astype('object')"
   ]
  },
  {
   "cell_type": "code",
   "execution_count": 19,
   "metadata": {},
   "outputs": [
    {
     "data": {
      "text/plain": [
       "COD_LOC                object\n",
       "NOMBRE_LOC             object\n",
       "CP                      int64\n",
       "POBLACION              object\n",
       "OFICINA                object\n",
       "PROVINCIA              object\n",
       "COD_PROY               object\n",
       "ID_EVALUACION          object\n",
       "Fecha de ejecucion     object\n",
       "COD_AUDITOR            object\n",
       "RESULTADO              object\n",
       "TITULO_CUESTIONARIO    object\n",
       "dtype: object"
      ]
     },
     "execution_count": 19,
     "metadata": {},
     "output_type": "execute_result"
    }
   ],
   "source": [
    "a.dtypes"
   ]
  },
  {
   "cell_type": "code",
   "execution_count": 20,
   "metadata": {},
   "outputs": [
    {
     "data": {
      "text/plain": [
       "1966079    1\n",
       "1988295    1\n",
       "1987861    1\n",
       "1987864    1\n",
       "1987871    1\n",
       "          ..\n",
       "2007487    1\n",
       "2007489    1\n",
       "2007492    1\n",
       "2007493    1\n",
       "1966080    1\n",
       "Name: ID_EVALUACION, Length: 32797, dtype: int64"
      ]
     },
     "execution_count": 20,
     "metadata": {},
     "output_type": "execute_result"
    }
   ],
   "source": [
    "a['ID_EVALUACION'].value_counts()"
   ]
  },
  {
   "cell_type": "code",
   "execution_count": 21,
   "metadata": {},
   "outputs": [
    {
     "data": {
      "text/plain": [
       "count       32797\n",
       "unique      32797\n",
       "top       1966079\n",
       "freq            1\n",
       "Name: ID_EVALUACION, dtype: int64"
      ]
     },
     "execution_count": 21,
     "metadata": {},
     "output_type": "execute_result"
    }
   ],
   "source": [
    "a['ID_EVALUACION'].describe()"
   ]
  },
  {
   "cell_type": "code",
   "execution_count": 22,
   "metadata": {},
   "outputs": [
    {
     "data": {
      "text/plain": [
       "25/02/2014    520\n",
       "19/02/2014    519\n",
       "21/02/2014    503\n",
       "20/02/2014    501\n",
       "23/04/2014    497\n",
       "             ... \n",
       "29/04/2013      1\n",
       "20/03/2013      1\n",
       "25/04/2013      1\n",
       "12/12/2014      1\n",
       "14/01/2013      1\n",
       "Name: Fecha de ejecucion, Length: 188, dtype: int64"
      ]
     },
     "execution_count": 22,
     "metadata": {},
     "output_type": "execute_result"
    }
   ],
   "source": [
    "a['Fecha de ejecucion'].value_counts()"
   ]
  },
  {
   "cell_type": "code",
   "execution_count": 23,
   "metadata": {},
   "outputs": [
    {
     "data": {
      "text/plain": [
       "count          32796\n",
       "unique           188\n",
       "top       25/02/2014\n",
       "freq             520\n",
       "Name: Fecha de ejecucion, dtype: object"
      ]
     },
     "execution_count": 23,
     "metadata": {},
     "output_type": "execute_result"
    }
   ],
   "source": [
    "a['Fecha de ejecucion'].describe()"
   ]
  },
  {
   "cell_type": "code",
   "execution_count": 24,
   "metadata": {},
   "outputs": [
    {
     "data": {
      "text/plain": [
       "min   1995-03-05\n",
       "max   2014-12-12\n",
       "Name: Fecha de ejecucion, dtype: datetime64[ns]"
      ]
     },
     "execution_count": 24,
     "metadata": {},
     "output_type": "execute_result"
    }
   ],
   "source": [
    "a['Fecha de ejecucion'] = pd.to_datetime(a['Fecha de ejecucion'])\n",
    "a['Fecha de ejecucion'].agg(['min', 'max'])"
   ]
  },
  {
   "cell_type": "code",
   "execution_count": 25,
   "metadata": {},
   "outputs": [
    {
     "data": {
      "text/plain": [
       "citi_lop    782\n",
       "R29530      467\n",
       "A32809      412\n",
       "R29502      410\n",
       "a02401      380\n",
       "           ... \n",
       "33974         1\n",
       "33888         1\n",
       "MAIDER_L      1\n",
       "33740         1\n",
       "34205         1\n",
       "Name: COD_AUDITOR, Length: 1169, dtype: int64"
      ]
     },
     "execution_count": 25,
     "metadata": {},
     "output_type": "execute_result"
    }
   ],
   "source": [
    "a['COD_AUDITOR'].value_counts()"
   ]
  },
  {
   "cell_type": "code",
   "execution_count": 26,
   "metadata": {},
   "outputs": [
    {
     "data": {
      "text/plain": [
       "count        32797\n",
       "unique        1169\n",
       "top       citi_lop\n",
       "freq           782\n",
       "Name: COD_AUDITOR, dtype: object"
      ]
     },
     "execution_count": 26,
     "metadata": {},
     "output_type": "execute_result"
    }
   ],
   "source": [
    "a['COD_AUDITOR'].describe()"
   ]
  },
  {
   "cell_type": "code",
   "execution_count": 27,
   "metadata": {},
   "outputs": [],
   "source": [
    "a['RESULTADO'] = a['RESULTADO'].str.replace(',', '.').astype('float64')"
   ]
  },
  {
   "cell_type": "code",
   "execution_count": 28,
   "metadata": {},
   "outputs": [
    {
     "data": {
      "text/html": [
       "<div>\n",
       "<style scoped>\n",
       "    .dataframe tbody tr th:only-of-type {\n",
       "        vertical-align: middle;\n",
       "    }\n",
       "\n",
       "    .dataframe tbody tr th {\n",
       "        vertical-align: top;\n",
       "    }\n",
       "\n",
       "    .dataframe thead th {\n",
       "        text-align: right;\n",
       "    }\n",
       "</style>\n",
       "<table border=\"1\" class=\"dataframe\">\n",
       "  <thead>\n",
       "    <tr style=\"text-align: right;\">\n",
       "      <th></th>\n",
       "      <th>CP</th>\n",
       "      <th>RESULTADO</th>\n",
       "    </tr>\n",
       "  </thead>\n",
       "  <tbody>\n",
       "    <tr>\n",
       "      <th>count</th>\n",
       "      <td>32797.000000</td>\n",
       "      <td>32797.000000</td>\n",
       "    </tr>\n",
       "    <tr>\n",
       "      <th>mean</th>\n",
       "      <td>24485.800134</td>\n",
       "      <td>0.797175</td>\n",
       "    </tr>\n",
       "    <tr>\n",
       "      <th>std</th>\n",
       "      <td>14163.379513</td>\n",
       "      <td>0.275862</td>\n",
       "    </tr>\n",
       "    <tr>\n",
       "      <th>min</th>\n",
       "      <td>0.000000</td>\n",
       "      <td>0.000000</td>\n",
       "    </tr>\n",
       "    <tr>\n",
       "      <th>25%</th>\n",
       "      <td>8905.000000</td>\n",
       "      <td>0.765300</td>\n",
       "    </tr>\n",
       "    <tr>\n",
       "      <th>50%</th>\n",
       "      <td>28000.000000</td>\n",
       "      <td>0.900000</td>\n",
       "    </tr>\n",
       "    <tr>\n",
       "      <th>75%</th>\n",
       "      <td>33900.000000</td>\n",
       "      <td>0.970000</td>\n",
       "    </tr>\n",
       "    <tr>\n",
       "      <th>max</th>\n",
       "      <td>99999.000000</td>\n",
       "      <td>1.000000</td>\n",
       "    </tr>\n",
       "  </tbody>\n",
       "</table>\n",
       "</div>"
      ],
      "text/plain": [
       "                 CP     RESULTADO\n",
       "count  32797.000000  32797.000000\n",
       "mean   24485.800134      0.797175\n",
       "std    14163.379513      0.275862\n",
       "min        0.000000      0.000000\n",
       "25%     8905.000000      0.765300\n",
       "50%    28000.000000      0.900000\n",
       "75%    33900.000000      0.970000\n",
       "max    99999.000000      1.000000"
      ]
     },
     "execution_count": 28,
     "metadata": {},
     "output_type": "execute_result"
    }
   ],
   "source": [
    "a.describe()"
   ]
  },
  {
   "cell_type": "code",
   "execution_count": 29,
   "metadata": {},
   "outputs": [
    {
     "data": {
      "text/plain": [
       "min    0.0\n",
       "max    1.0\n",
       "Name: RESULTADO, dtype: float64"
      ]
     },
     "execution_count": 29,
     "metadata": {},
     "output_type": "execute_result"
    }
   ],
   "source": [
    "a['RESULTADO'].agg(['min', 'max'])"
   ]
  },
  {
   "cell_type": "code",
   "execution_count": 30,
   "metadata": {},
   "outputs": [
    {
     "data": {
      "text/plain": [
       "count    32797.000000\n",
       "mean         0.797175\n",
       "std          0.275862\n",
       "min          0.000000\n",
       "25%          0.765300\n",
       "50%          0.900000\n",
       "75%          0.970000\n",
       "max          1.000000\n",
       "Name: RESULTADO, dtype: float64"
      ]
     },
     "execution_count": 30,
     "metadata": {},
     "output_type": "execute_result"
    }
   ],
   "source": [
    "a['RESULTADO'].describe()"
   ]
  },
  {
   "cell_type": "code",
   "execution_count": 31,
   "metadata": {
    "scrolled": true
   },
   "outputs": [
    {
     "data": {
      "text/plain": [
       "1.0000    6174\n",
       "0.0000    1743\n",
       "0.0100     817\n",
       "0.9500     795\n",
       "0.9667     627\n",
       "          ... \n",
       "0.7426       1\n",
       "0.7391       1\n",
       "0.7607       1\n",
       "0.5502       1\n",
       "0.5436       1\n",
       "Name: RESULTADO, Length: 4205, dtype: int64"
      ]
     },
     "execution_count": 31,
     "metadata": {},
     "output_type": "execute_result"
    }
   ],
   "source": [
    "a['RESULTADO'].value_counts()"
   ]
  },
  {
   "cell_type": "code",
   "execution_count": 32,
   "metadata": {},
   "outputs": [
    {
     "data": {
      "text/plain": [
       "count                                        32797\n",
       "unique                                         439\n",
       "top       MYSTERY SHOPPER ESPECIALISTA P6 (FEB_14)\n",
       "freq                                           979\n",
       "Name: TITULO_CUESTIONARIO, dtype: object"
      ]
     },
     "execution_count": 32,
     "metadata": {},
     "output_type": "execute_result"
    }
   ],
   "source": [
    "a['TITULO_CUESTIONARIO'].describe()"
   ]
  },
  {
   "cell_type": "code",
   "execution_count": 33,
   "metadata": {},
   "outputs": [
    {
     "data": {
      "text/plain": [
       "MYSTERY SHOPPER ESPECIALISTA P6 (FEB_14)      979\n",
       "MYSTERY SHOPPER ESPECIALISTA P1 (ABR_14)      936\n",
       "MYSTERY SHOPPER ESPECIALISTA P5 (ENE_14)      859\n",
       "Areas Compra Programada_Abril_2012            847\n",
       "RESUMEN ESPECIALISTAS PEC - P6 (13.14)        843\n",
       "                                             ... \n",
       "LLAOLLAO AUDITORIAS (FEB_14)                    1\n",
       "TTPP NUEVA IMAGEN - P1 (14.15)                  1\n",
       "Cuestionario Viajes Eroski _ online             1\n",
       "MYSTERY SHOPPER SERVICIO TTPP P2 (JUN_14 )      1\n",
       "Cuestionario TIGER                              1\n",
       "Name: TITULO_CUESTIONARIO, Length: 439, dtype: int64"
      ]
     },
     "execution_count": 33,
     "metadata": {},
     "output_type": "execute_result"
    }
   ],
   "source": [
    "a['TITULO_CUESTIONARIO'].value_counts()"
   ]
  },
  {
   "cell_type": "markdown",
   "metadata": {},
   "source": [
    "### VALORES NULOS"
   ]
  },
  {
   "cell_type": "code",
   "execution_count": 34,
   "metadata": {},
   "outputs": [
    {
     "data": {
      "text/plain": [
       "True"
      ]
     },
     "execution_count": 34,
     "metadata": {},
     "output_type": "execute_result"
    }
   ],
   "source": [
    "a.isnull().values.any()"
   ]
  },
  {
   "cell_type": "code",
   "execution_count": 35,
   "metadata": {},
   "outputs": [
    {
     "data": {
      "text/plain": [
       "COD_LOC                False\n",
       "NOMBRE_LOC             False\n",
       "CP                     False\n",
       "POBLACION               True\n",
       "OFICINA                False\n",
       "PROVINCIA              False\n",
       "COD_PROY               False\n",
       "ID_EVALUACION          False\n",
       "Fecha de ejecucion      True\n",
       "COD_AUDITOR            False\n",
       "RESULTADO              False\n",
       "TITULO_CUESTIONARIO    False\n",
       "dtype: bool"
      ]
     },
     "execution_count": 35,
     "metadata": {},
     "output_type": "execute_result"
    }
   ],
   "source": [
    "a.isnull().any()"
   ]
  },
  {
   "cell_type": "code",
   "execution_count": 36,
   "metadata": {},
   "outputs": [],
   "source": [
    "null_rows=df[df.isnull().any(1)]"
   ]
  },
  {
   "cell_type": "code",
   "execution_count": 37,
   "metadata": {},
   "outputs": [
    {
     "data": {
      "text/html": [
       "<div>\n",
       "<style scoped>\n",
       "    .dataframe tbody tr th:only-of-type {\n",
       "        vertical-align: middle;\n",
       "    }\n",
       "\n",
       "    .dataframe tbody tr th {\n",
       "        vertical-align: top;\n",
       "    }\n",
       "\n",
       "    .dataframe thead th {\n",
       "        text-align: right;\n",
       "    }\n",
       "</style>\n",
       "<table border=\"1\" class=\"dataframe\">\n",
       "  <thead>\n",
       "    <tr style=\"text-align: right;\">\n",
       "      <th></th>\n",
       "      <th>COD_LOC</th>\n",
       "      <th>NOMBRE_LOC</th>\n",
       "      <th>CP</th>\n",
       "      <th>POBLACION</th>\n",
       "      <th>OFICINA</th>\n",
       "      <th>PROVINCIA</th>\n",
       "      <th>COD_PROY</th>\n",
       "      <th>ID_EVALUACION</th>\n",
       "      <th>Fecha de ejecucion</th>\n",
       "      <th>COD_AUDITOR</th>\n",
       "      <th>RESULTADO</th>\n",
       "      <th>TITULO_CUESTIONARIO</th>\n",
       "    </tr>\n",
       "  </thead>\n",
       "  <tbody>\n",
       "    <tr>\n",
       "      <th>1000</th>\n",
       "      <td>LCG_03</td>\n",
       "      <td>LCG Sierpes 2-4</td>\n",
       "      <td>41004</td>\n",
       "      <td>NaN</td>\n",
       "      <td>915</td>\n",
       "      <td>SEVILLA</td>\n",
       "      <td>0418_01</td>\n",
       "      <td>1947016</td>\n",
       "      <td>2014-01-25</td>\n",
       "      <td>29559</td>\n",
       "      <td>1.0000</td>\n",
       "      <td>LCG_Cuestionario Español</td>\n",
       "    </tr>\n",
       "    <tr>\n",
       "      <th>1056</th>\n",
       "      <td>JDB_07</td>\n",
       "      <td>ECI Plaza Cataluña</td>\n",
       "      <td>8000</td>\n",
       "      <td>NaN</td>\n",
       "      <td>901</td>\n",
       "      <td>BARCELONA</td>\n",
       "      <td>0445_01</td>\n",
       "      <td>1947075</td>\n",
       "      <td>2014-01-13</td>\n",
       "      <td>157</td>\n",
       "      <td>0.8242</td>\n",
       "      <td>JDB_Cuestionario Español</td>\n",
       "    </tr>\n",
       "    <tr>\n",
       "      <th>1060</th>\n",
       "      <td>LCG_06</td>\n",
       "      <td>LCG Ferran 14</td>\n",
       "      <td>8002</td>\n",
       "      <td>NaN</td>\n",
       "      <td>901</td>\n",
       "      <td>BARCELONA</td>\n",
       "      <td>0418_01</td>\n",
       "      <td>1947080</td>\n",
       "      <td>2014-01-25</td>\n",
       "      <td>31678</td>\n",
       "      <td>0.7278</td>\n",
       "      <td>LCG_Cuestionario Español</td>\n",
       "    </tr>\n",
       "    <tr>\n",
       "      <th>1062</th>\n",
       "      <td>LCG_05</td>\n",
       "      <td>LCG Palma de Mallorca</td>\n",
       "      <td>7001</td>\n",
       "      <td>NaN</td>\n",
       "      <td>901</td>\n",
       "      <td>BALEARES</td>\n",
       "      <td>0418_01</td>\n",
       "      <td>1947082</td>\n",
       "      <td>2014-01-18</td>\n",
       "      <td>901_02707</td>\n",
       "      <td>0.9089</td>\n",
       "      <td>LCG_Cuestionario Español</td>\n",
       "    </tr>\n",
       "    <tr>\n",
       "      <th>1115</th>\n",
       "      <td>LCG_01</td>\n",
       "      <td>LCG Postas 18</td>\n",
       "      <td>28012</td>\n",
       "      <td>NaN</td>\n",
       "      <td>911</td>\n",
       "      <td>MADRID</td>\n",
       "      <td>0418_01</td>\n",
       "      <td>1947138</td>\n",
       "      <td>2014-01-25</td>\n",
       "      <td>33270</td>\n",
       "      <td>0.8638</td>\n",
       "      <td>LCG_Cuestionario Español</td>\n",
       "    </tr>\n",
       "    <tr>\n",
       "      <th>...</th>\n",
       "      <td>...</td>\n",
       "      <td>...</td>\n",
       "      <td>...</td>\n",
       "      <td>...</td>\n",
       "      <td>...</td>\n",
       "      <td>...</td>\n",
       "      <td>...</td>\n",
       "      <td>...</td>\n",
       "      <td>...</td>\n",
       "      <td>...</td>\n",
       "      <td>...</td>\n",
       "      <td>...</td>\n",
       "    </tr>\n",
       "    <tr>\n",
       "      <th>30820</th>\n",
       "      <td>JDB_02</td>\n",
       "      <td>CC Plenilunio</td>\n",
       "      <td>28022</td>\n",
       "      <td>NaN</td>\n",
       "      <td>911</td>\n",
       "      <td>MADRID</td>\n",
       "      <td>0445_01</td>\n",
       "      <td>2006012</td>\n",
       "      <td>2014-03-06</td>\n",
       "      <td>33642</td>\n",
       "      <td>0.9130</td>\n",
       "      <td>JDB_Cuestionario Español</td>\n",
       "    </tr>\n",
       "    <tr>\n",
       "      <th>30823</th>\n",
       "      <td>LCG_06</td>\n",
       "      <td>LCG Ferran 14</td>\n",
       "      <td>8002</td>\n",
       "      <td>NaN</td>\n",
       "      <td>901</td>\n",
       "      <td>BARCELONA</td>\n",
       "      <td>0418_01</td>\n",
       "      <td>2006018</td>\n",
       "      <td>2014-07-06</td>\n",
       "      <td>157</td>\n",
       "      <td>0.8639</td>\n",
       "      <td>LCG_Cuestionario Español</td>\n",
       "    </tr>\n",
       "    <tr>\n",
       "      <th>30825</th>\n",
       "      <td>JDB_07</td>\n",
       "      <td>ECI Plaza Cataluña</td>\n",
       "      <td>8000</td>\n",
       "      <td>NaN</td>\n",
       "      <td>901</td>\n",
       "      <td>BARCELONA</td>\n",
       "      <td>0445_01</td>\n",
       "      <td>2006020</td>\n",
       "      <td>2014-12-06</td>\n",
       "      <td>32708</td>\n",
       "      <td>0.9625</td>\n",
       "      <td>JDB_Cuestionario Español</td>\n",
       "    </tr>\n",
       "    <tr>\n",
       "      <th>30827</th>\n",
       "      <td>LCG_03</td>\n",
       "      <td>LCG Sierpes 2-4</td>\n",
       "      <td>41004</td>\n",
       "      <td>NaN</td>\n",
       "      <td>915</td>\n",
       "      <td>SEVILLA</td>\n",
       "      <td>0418_01</td>\n",
       "      <td>2006034</td>\n",
       "      <td>2014-06-14</td>\n",
       "      <td>33562</td>\n",
       "      <td>1.0000</td>\n",
       "      <td>LCG_Cuestionario Español</td>\n",
       "    </tr>\n",
       "    <tr>\n",
       "      <th>31307</th>\n",
       "      <td>1</td>\n",
       "      <td>SALA DE DESPIECE (SERVIGROUP)</td>\n",
       "      <td>3502</td>\n",
       "      <td>NaN</td>\n",
       "      <td>SGS</td>\n",
       "      <td>ALICANTE</td>\n",
       "      <td>SALA DESPIECE</td>\n",
       "      <td>2007522</td>\n",
       "      <td>2014-10-06</td>\n",
       "      <td>M_DELGADO</td>\n",
       "      <td>0.9628</td>\n",
       "      <td>AUDITORIA SEGURIDAD ALIMENTARIA-HYGIENE MONITORED</td>\n",
       "    </tr>\n",
       "  </tbody>\n",
       "</table>\n",
       "<p>82 rows × 12 columns</p>\n",
       "</div>"
      ],
      "text/plain": [
       "      COD_LOC                     NOMBRE_LOC     CP POBLACION OFICINA  \\\n",
       "1000   LCG_03                LCG Sierpes 2-4  41004       NaN     915   \n",
       "1056   JDB_07             ECI Plaza Cataluña   8000       NaN     901   \n",
       "1060   LCG_06                  LCG Ferran 14   8002       NaN     901   \n",
       "1062   LCG_05          LCG Palma de Mallorca   7001       NaN     901   \n",
       "1115   LCG_01                  LCG Postas 18  28012       NaN     911   \n",
       "...       ...                            ...    ...       ...     ...   \n",
       "30820  JDB_02                  CC Plenilunio  28022       NaN     911   \n",
       "30823  LCG_06                  LCG Ferran 14   8002       NaN     901   \n",
       "30825  JDB_07             ECI Plaza Cataluña   8000       NaN     901   \n",
       "30827  LCG_03                LCG Sierpes 2-4  41004       NaN     915   \n",
       "31307       1  SALA DE DESPIECE (SERVIGROUP)   3502       NaN     SGS   \n",
       "\n",
       "       PROVINCIA       COD_PROY ID_EVALUACION Fecha de ejecucion COD_AUDITOR  \\\n",
       "1000     SEVILLA        0418_01       1947016         2014-01-25       29559   \n",
       "1056   BARCELONA        0445_01       1947075         2014-01-13         157   \n",
       "1060   BARCELONA        0418_01       1947080         2014-01-25       31678   \n",
       "1062    BALEARES        0418_01       1947082         2014-01-18   901_02707   \n",
       "1115      MADRID        0418_01       1947138         2014-01-25       33270   \n",
       "...          ...            ...           ...                ...         ...   \n",
       "30820     MADRID        0445_01       2006012         2014-03-06       33642   \n",
       "30823  BARCELONA        0418_01       2006018         2014-07-06         157   \n",
       "30825  BARCELONA        0445_01       2006020         2014-12-06       32708   \n",
       "30827    SEVILLA        0418_01       2006034         2014-06-14       33562   \n",
       "31307   ALICANTE  SALA DESPIECE       2007522         2014-10-06   M_DELGADO   \n",
       "\n",
       "       RESULTADO                                TITULO_CUESTIONARIO  \n",
       "1000      1.0000                           LCG_Cuestionario Español  \n",
       "1056      0.8242                           JDB_Cuestionario Español  \n",
       "1060      0.7278                           LCG_Cuestionario Español  \n",
       "1062      0.9089                           LCG_Cuestionario Español  \n",
       "1115      0.8638                           LCG_Cuestionario Español  \n",
       "...          ...                                                ...  \n",
       "30820     0.9130                           JDB_Cuestionario Español  \n",
       "30823     0.8639                           LCG_Cuestionario Español  \n",
       "30825     0.9625                           JDB_Cuestionario Español  \n",
       "30827     1.0000                           LCG_Cuestionario Español  \n",
       "31307     0.9628  AUDITORIA SEGURIDAD ALIMENTARIA-HYGIENE MONITORED  \n",
       "\n",
       "[82 rows x 12 columns]"
      ]
     },
     "execution_count": 37,
     "metadata": {},
     "output_type": "execute_result"
    }
   ],
   "source": [
    "null_rows"
   ]
  },
  {
   "cell_type": "code",
   "execution_count": 38,
   "metadata": {},
   "outputs": [
    {
     "data": {
      "text/plain": [
       "COD_LOC                 0\n",
       "NOMBRE_LOC              0\n",
       "CP                      0\n",
       "POBLACION              81\n",
       "OFICINA                 0\n",
       "PROVINCIA               0\n",
       "COD_PROY                0\n",
       "ID_EVALUACION           0\n",
       "Fecha de ejecucion      1\n",
       "COD_AUDITOR             0\n",
       "RESULTADO               0\n",
       "TITULO_CUESTIONARIO     0\n",
       "dtype: int64"
      ]
     },
     "execution_count": 38,
     "metadata": {},
     "output_type": "execute_result"
    }
   ],
   "source": [
    "a.isnull().sum()"
   ]
  },
  {
   "cell_type": "code",
   "execution_count": 47,
   "metadata": {},
   "outputs": [
    {
     "data": {
      "text/html": [
       "<div>\n",
       "<style scoped>\n",
       "    .dataframe tbody tr th:only-of-type {\n",
       "        vertical-align: middle;\n",
       "    }\n",
       "\n",
       "    .dataframe tbody tr th {\n",
       "        vertical-align: top;\n",
       "    }\n",
       "\n",
       "    .dataframe thead th {\n",
       "        text-align: right;\n",
       "    }\n",
       "</style>\n",
       "<table border=\"1\" class=\"dataframe\">\n",
       "  <thead>\n",
       "    <tr style=\"text-align: right;\">\n",
       "      <th></th>\n",
       "      <th>COD_LOC</th>\n",
       "      <th>NOMBRE_LOC</th>\n",
       "      <th>CP</th>\n",
       "      <th>POBLACION</th>\n",
       "      <th>OFICINA</th>\n",
       "      <th>PROVINCIA</th>\n",
       "      <th>COD_PROY</th>\n",
       "      <th>ID_EVALUACION</th>\n",
       "      <th>Fecha de ejecucion</th>\n",
       "      <th>COD_AUDITOR</th>\n",
       "      <th>RESULTADO</th>\n",
       "      <th>TITULO_CUESTIONARIO</th>\n",
       "    </tr>\n",
       "  </thead>\n",
       "  <tbody>\n",
       "    <tr>\n",
       "      <th>13233</th>\n",
       "      <td>161</td>\n",
       "      <td>AVEIRO</td>\n",
       "      <td>8000</td>\n",
       "      <td>AVEIRO</td>\n",
       "      <td>901</td>\n",
       "      <td>EXTRANJERO</td>\n",
       "      <td>0569_001</td>\n",
       "      <td>1971659</td>\n",
       "      <td>2014-12-03</td>\n",
       "      <td>portugal</td>\n",
       "      <td>0.961</td>\n",
       "      <td>Prenatal Mystery Shopping</td>\n",
       "    </tr>\n",
       "    <tr>\n",
       "      <th>16508</th>\n",
       "      <td>161</td>\n",
       "      <td>AVEIRO</td>\n",
       "      <td>8000</td>\n",
       "      <td>AVEIRO</td>\n",
       "      <td>901</td>\n",
       "      <td>EXTRANJERO</td>\n",
       "      <td>0569_001</td>\n",
       "      <td>1979299</td>\n",
       "      <td>2014-12-03</td>\n",
       "      <td>33592</td>\n",
       "      <td>1.000</td>\n",
       "      <td>Prenatal Visual tienda</td>\n",
       "    </tr>\n",
       "    <tr>\n",
       "      <th>27729</th>\n",
       "      <td>161</td>\n",
       "      <td>AVEIRO</td>\n",
       "      <td>8000</td>\n",
       "      <td>AVEIRO</td>\n",
       "      <td>901</td>\n",
       "      <td>EXTRANJERO</td>\n",
       "      <td>0569_001</td>\n",
       "      <td>1999055</td>\n",
       "      <td>2014-05-15</td>\n",
       "      <td>portugal</td>\n",
       "      <td>0.873</td>\n",
       "      <td>Prenatal Mystery Shopping</td>\n",
       "    </tr>\n",
       "    <tr>\n",
       "      <th>27730</th>\n",
       "      <td>161</td>\n",
       "      <td>AVEIRO</td>\n",
       "      <td>8000</td>\n",
       "      <td>AVEIRO</td>\n",
       "      <td>901</td>\n",
       "      <td>EXTRANJERO</td>\n",
       "      <td>0569_001</td>\n",
       "      <td>1999056</td>\n",
       "      <td>2014-05-15</td>\n",
       "      <td>portugal</td>\n",
       "      <td>0.975</td>\n",
       "      <td>Prenatal Visual tienda</td>\n",
       "    </tr>\n",
       "    <tr>\n",
       "      <th>30258</th>\n",
       "      <td>161</td>\n",
       "      <td>AVEIRO</td>\n",
       "      <td>8000</td>\n",
       "      <td>AVEIRO</td>\n",
       "      <td>901</td>\n",
       "      <td>EXTRANJERO</td>\n",
       "      <td>0569_001</td>\n",
       "      <td>2004806</td>\n",
       "      <td>2014-05-22</td>\n",
       "      <td>portugal</td>\n",
       "      <td>0.952</td>\n",
       "      <td>Prenatal Mystery Shopping</td>\n",
       "    </tr>\n",
       "    <tr>\n",
       "      <th>30259</th>\n",
       "      <td>161</td>\n",
       "      <td>AVEIRO</td>\n",
       "      <td>8000</td>\n",
       "      <td>AVEIRO</td>\n",
       "      <td>901</td>\n",
       "      <td>EXTRANJERO</td>\n",
       "      <td>0569_001</td>\n",
       "      <td>2004807</td>\n",
       "      <td>2014-05-22</td>\n",
       "      <td>portugal</td>\n",
       "      <td>0.913</td>\n",
       "      <td>Prenatal Visual tienda</td>\n",
       "    </tr>\n",
       "    <tr>\n",
       "      <th>32795</th>\n",
       "      <td>161</td>\n",
       "      <td>AVEIRO</td>\n",
       "      <td>8000</td>\n",
       "      <td>AVEIRO</td>\n",
       "      <td>901</td>\n",
       "      <td>EXTRANJERO</td>\n",
       "      <td>0569_001</td>\n",
       "      <td>2016755</td>\n",
       "      <td>2014-05-15</td>\n",
       "      <td>33592</td>\n",
       "      <td>0.873</td>\n",
       "      <td>Prenatal Mystery Shopping</td>\n",
       "    </tr>\n",
       "    <tr>\n",
       "      <th>32796</th>\n",
       "      <td>161</td>\n",
       "      <td>AVEIRO</td>\n",
       "      <td>8000</td>\n",
       "      <td>AVEIRO</td>\n",
       "      <td>901</td>\n",
       "      <td>EXTRANJERO</td>\n",
       "      <td>0569_001</td>\n",
       "      <td>2016756</td>\n",
       "      <td>2014-05-15</td>\n",
       "      <td>33592</td>\n",
       "      <td>0.975</td>\n",
       "      <td>Prenatal Visual tienda</td>\n",
       "    </tr>\n",
       "  </tbody>\n",
       "</table>\n",
       "</div>"
      ],
      "text/plain": [
       "      COD_LOC NOMBRE_LOC    CP POBLACION OFICINA   PROVINCIA  COD_PROY  \\\n",
       "13233     161     AVEIRO  8000    AVEIRO     901  EXTRANJERO  0569_001   \n",
       "16508     161     AVEIRO  8000    AVEIRO     901  EXTRANJERO  0569_001   \n",
       "27729     161     AVEIRO  8000    AVEIRO     901  EXTRANJERO  0569_001   \n",
       "27730     161     AVEIRO  8000    AVEIRO     901  EXTRANJERO  0569_001   \n",
       "30258     161     AVEIRO  8000    AVEIRO     901  EXTRANJERO  0569_001   \n",
       "30259     161     AVEIRO  8000    AVEIRO     901  EXTRANJERO  0569_001   \n",
       "32795     161     AVEIRO  8000    AVEIRO     901  EXTRANJERO  0569_001   \n",
       "32796     161     AVEIRO  8000    AVEIRO     901  EXTRANJERO  0569_001   \n",
       "\n",
       "      ID_EVALUACION Fecha de ejecucion COD_AUDITOR  RESULTADO  \\\n",
       "13233       1971659         2014-12-03    portugal      0.961   \n",
       "16508       1979299         2014-12-03       33592      1.000   \n",
       "27729       1999055         2014-05-15    portugal      0.873   \n",
       "27730       1999056         2014-05-15    portugal      0.975   \n",
       "30258       2004806         2014-05-22    portugal      0.952   \n",
       "30259       2004807         2014-05-22    portugal      0.913   \n",
       "32795       2016755         2014-05-15       33592      0.873   \n",
       "32796       2016756         2014-05-15       33592      0.975   \n",
       "\n",
       "             TITULO_CUESTIONARIO  \n",
       "13233  Prenatal Mystery Shopping  \n",
       "16508     Prenatal Visual tienda  \n",
       "27729  Prenatal Mystery Shopping  \n",
       "27730     Prenatal Visual tienda  \n",
       "30258  Prenatal Mystery Shopping  \n",
       "30259     Prenatal Visual tienda  \n",
       "32795  Prenatal Mystery Shopping  \n",
       "32796     Prenatal Visual tienda  "
      ]
     },
     "execution_count": 47,
     "metadata": {},
     "output_type": "execute_result"
    }
   ],
   "source": [
    "df.loc[df[\"NOMBRE_LOC\"] == \"AVEIRO\"]"
   ]
  },
  {
   "cell_type": "code",
   "execution_count": null,
   "metadata": {},
   "outputs": [],
   "source": []
  }
 ],
 "metadata": {
  "kernelspec": {
   "display_name": "Python 3 (ipykernel)",
   "language": "python",
   "name": "python3"
  },
  "language_info": {
   "codemirror_mode": {
    "name": "ipython",
    "version": 3
   },
   "file_extension": ".py",
   "mimetype": "text/x-python",
   "name": "python",
   "nbconvert_exporter": "python",
   "pygments_lexer": "ipython3",
   "version": "3.9.7"
  }
 },
 "nbformat": 4,
 "nbformat_minor": 4
}
